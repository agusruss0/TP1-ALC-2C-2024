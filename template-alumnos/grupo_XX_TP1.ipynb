{
 "cells": [
  {
   "attachments": {},
   "cell_type": "markdown",
   "id": "5c0cbb93-2880-4750-975d-11cce9f6b12c",
   "metadata": {},
   "source": [
    "# Trabajo Práctico 1 - Matrices de Insumo Producto\n",
    "\n",
    "## Enunciado"
   ]
  },
  {
   "cell_type": "markdown",
   "id": "11f7face-a325-4e30-b13e-0c3d84280c5e",
   "metadata": {},
   "source": [
    "### Consigna 1"
   ]
  },
  {
   "cell_type": "markdown",
   "id": "e69c407d-9132-421c-8d02-508da3bb3ae6",
   "metadata": {},
   "source": [
    "##### Ecuacion\n",
    "$$p = (I-A)^{-1}d = Ld$$\n",
    "\n",
    "Si $d = 0$ entonce $p = 0$  ??\n",
    "\n",
    "##### a. Cuando $ (I-A) $ es inversible la matriz de Leontief se puede calcular. En este caso la solucion al sistema 2 existe y es unica.\n",
    "\n",
    "##### b. Cuando $ (I-A) $ es inversible pero el vector d = 0 tenemos una economia cerrada en donde para toda matriz de Leontief el valor de p va a ser 0.\n",
    "\n",
    "##### c. Cuando $ (I-A) $ no es inversible significa que el sistema no tiene solucion unica o no tiene solucion.\n",
    "\n",
    "##### d. Cuando $ (I-A) $ no es inversible y d = 0 el sistema se puede reducir a $ (I-A)p = 0 $ el cual posee soluciones no triviales por lo tanto hay soluciones infinitas que satisfacen la ecuacion.\n"
   ]
  },
  {
   "cell_type": "markdown",
   "id": "6ea60699-4c07-40fb-8f71-ec4cacf32708",
   "metadata": {},
   "source": [
    "### Consigna 2"
   ]
  },
  {
   "cell_type": "code",
   "execution_count": 5,
   "id": "260b913f-d6d3-47b8-9431-7a64d6d037a5",
   "metadata": {},
   "outputs": [],
   "source": [
    "from funciones import inversaLU, calcularPLU, solve_LU, calcularLU, inversaLUpivot, calcular_coeficientes_tecnicos\n",
    "import numpy as np"
   ]
  },
  {
   "cell_type": "markdown",
   "id": "b6527567-ea14-4fb0-8cbb-3faa67fee8c1",
   "metadata": {},
   "source": [
    "---"
   ]
  },
  {
   "cell_type": "markdown",
   "id": "a063ee90",
   "metadata": {},
   "source": [
    "### Consigna 3"
   ]
  },
  {
   "cell_type": "code",
   "execution_count": 6,
   "id": "07f69bd8-9a22-4fa0-8e69-7e2580e80459",
   "metadata": {},
   "outputs": [
    {
     "data": {
      "text/plain": [
       "array([   64.03940887, -5305.41871921,  -551.72413793])"
      ]
     },
     "execution_count": 6,
     "metadata": {},
     "output_type": "execute_result"
    }
   ],
   "source": [
    "A = np.array([[0.3, 0.0, 0.1],[0.05, 1.0, 0.2],[0.1, 0.15, 0.1]])\n",
    "d = np.array([100,100,300])\n",
    "rows,cols = A.shape\n",
    "id = np.eye(rows, cols)\n",
    "i_A = id - A\n",
    "L, U, P= calcularPLU(i_A)\n",
    "leontief = inversaLUpivot(L,U,P)\n",
    "\n",
    "p = leontief @ d\n",
    "p"
   ]
  },
  {
   "cell_type": "markdown",
   "id": "8067f546",
   "metadata": {},
   "source": [
    "a) Como el producto 2 necesita 1 producto 2 para producirse uno, ademas de los gastos de los demas productos nunca llega a satisfacer la demanda por ende so produccion total es negativa (creo que aca no estamos viendo bien a la matriz de la demanda interna la cual deberia ser la matriz de leontief y no la matriz A, lo que me llama la atencion es que nos esta viniendo con valores negativos cuando la demanda deberia ser positiva?)\n"
   ]
  },
  {
   "cell_type": "markdown",
   "id": "c76c5de6",
   "metadata": {},
   "source": [
    "---\n",
    "\n",
    "### Consigna 4"
   ]
  },
  {
   "cell_type": "code",
   "execution_count": 10,
   "id": "2d2cd6f8",
   "metadata": {},
   "outputs": [
    {
     "data": {
      "text/plain": [
       "array([   64.03940887, -5312.08538588,  -551.72413793])"
      ]
     },
     "execution_count": 10,
     "metadata": {},
     "output_type": "execute_result"
    }
   ],
   "source": [
    "delta_d = d + np.array([0,0,1])\n",
    "delta_p = leontief @ delta_d\n",
    "delta_p"
   ]
  },
  {
   "cell_type": "markdown",
   "id": "ebb902a5",
   "metadata": {},
   "source": [
    "---\n",
    "\n",
    "### Consigna 5"
   ]
  },
  {
   "cell_type": "code",
   "execution_count": 2,
   "id": "5f8c86f9",
   "metadata": {},
   "outputs": [
    {
     "name": "stdout",
     "output_type": "stream",
     "text": [
      "[[0.35 0.   0.  ]\n",
      " [0.05 0.5  0.15]\n",
      " [0.2  0.3  0.55]]\n"
     ]
    },
    {
     "data": {
      "text/plain": [
       "array([[1.53846154, 0.        , 0.        ],\n",
       "       [0.44871795, 2.5       , 0.83333333],\n",
       "       [0.98290598, 1.66666667, 2.77777778]])"
      ]
     },
     "execution_count": 2,
     "metadata": {},
     "output_type": "execute_result"
    }
   ],
   "source": [
    "Z = np.array([[350, 0, 0],[50, 250, 150],[200, 150, 550]])\n",
    "rows, cols = Z.shape\n",
    "P = np.array([[1000,0,0],[0,500,0],[0,0,1000]])\n",
    "\n",
    "A = calcular_coeficientes_tecnicos(Z,P)\n",
    "i_A = np.eye(rows, cols) - A\n",
    "leontief = inversaLUpivot(*calcularPLU(i_A))\n",
    "print(A)\n",
    "leontief "
   ]
  },
  {
   "cell_type": "markdown",
   "id": "9cfbc03d",
   "metadata": {},
   "source": [
    "---\n",
    "### Consigna 6"
   ]
  },
  {
   "cell_type": "code",
   "execution_count": null,
   "id": "6d7d0a16",
   "metadata": {},
   "outputs": [],
   "source": []
  },
  {
   "cell_type": "markdown",
   "id": "5f68f67a",
   "metadata": {},
   "source": [
    "---\n",
    "### Consigna 7"
   ]
  },
  {
   "cell_type": "code",
   "execution_count": 1,
   "id": "ad1c3dc2",
   "metadata": {},
   "outputs": [],
   "source": [
    "import pandas as pd\n",
    "\n",
    "path = \"matrizlatina2011_compressed_0.xlsx\"\n",
    "dataset = pd.read_excel(path, sheet_name=1)"
   ]
  },
  {
   "cell_type": "markdown",
   "id": "5b55f117",
   "metadata": {},
   "source": [
    "b)"
   ]
  },
  {
   "cell_type": "code",
   "execution_count": 2,
   "id": "bb913eb8",
   "metadata": {},
   "outputs": [],
   "source": [
    "\n",
    "COL = dataset[dataset[\"Country_iso3\"] ==\"COL\"]\n",
    "BOL = dataset[dataset[\"Country_iso3\"] ==\"BOL\"]"
   ]
  },
  {
   "cell_type": "code",
   "execution_count": 3,
   "id": "cd76e3d6",
   "metadata": {},
   "outputs": [],
   "source": [
    "#Separamos los dataframes de cada pais \n",
    "\n",
    "bol_cols = [f\"BOLs{i}\" for i in range(1,41)]\n",
    "col_cols = [f\"COLs{i}\" for i in range(1,41)]\n",
    "\n",
    "col_p = COL[\"Output\"]\n",
    "bol_p = BOL[\"Output\"]\n",
    "\n",
    "bol_intra_regional = BOL[bol_cols]\n",
    "bol_inter_regional = BOL[col_cols]\n",
    "\n",
    "col_intra_regional = COL[col_cols]\n",
    "col_inter_regional = COL[bol_cols]\n",
    "\n",
    "# bol_intra_regional.head()\n",
    "\n",
    "\n"
   ]
  },
  {
   "cell_type": "code",
   "execution_count": 12,
   "id": "86bd36c6",
   "metadata": {},
   "outputs": [],
   "source": [
    "bol_intra_regional = BOL[bol_cols].to_numpy(na_value=0) #Matriz Z de Bolivia intra regional\n",
    "bol_inter_regional = BOL[col_cols].to_numpy(na_value=0) #Matriz Z de Bolivia inter regional\n",
    "\n",
    "col_intra_regional = COL[col_cols].to_numpy(na_value=0) #Matriz Z de Colombia intra regional\n",
    "col_inter_regional = COL[bol_cols].to_numpy(na_value=0) #Matriz Z de Colombia inter regional\n",
    "\n",
    "bol_P_unprocessed = bol_p.to_numpy(na_value=0)\n",
    "col_P_unprocessed = col_p.to_numpy(na_value=0)\n",
    "\n",
    "p1 = []\n",
    "for i in bol_P_unprocessed:\n",
    "    if i != 0:\n",
    "        p1.append(i)\n",
    "    else:\n",
    "        p1.append(1)\n",
    "\n",
    "p2 = []\n",
    "for i in col_P_unprocessed:\n",
    "    if i != 0:\n",
    "        p2.append(i)\n",
    "    else:\n",
    "        p2.append(1)\n",
    "\n",
    "bol_P = np.diag(p1)\n",
    "col_P = np.diag(p2)\t   "
   ]
  },
  {
   "cell_type": "markdown",
   "id": "ef88993d",
   "metadata": {},
   "source": [
    "c)"
   ]
  },
  {
   "cell_type": "code",
   "execution_count": null,
   "id": "1179ac6f",
   "metadata": {},
   "outputs": [],
   "source": [
    "bol_intra_A = calcular_coeficientes_tecnicos(bol_intra_regional, bol_P)\n",
    "bol_inter_A = calcular_coeficientes_tecnicos(bol_inter_regional, col_P)\n",
    "\n",
    "col_intra_A = calcular_coeficientes_tecnicos(col_intra_regional, col_P)\n",
    "col_inter_A = calcular_coeficientes_tecnicos(col_inter_regional, bol_P)\n"
   ]
  },
  {
   "cell_type": "code",
   "execution_count": null,
   "id": "0d25fbe8",
   "metadata": {},
   "outputs": [],
   "source": [
    "rows, cols = bol_intra_A.shape\n",
    "bol_intra_d = (np.eye(rows,cols) - bol_intra_A) @ bol_P\n",
    "bol_inter_d = np.eye(rows,cols) - bol_inter_A\n",
    "\n",
    "rows, cols = col_intra_A.shape\n",
    "col_intra_d = np.eye(rows,cols)\n",
    "col_inter_d = np.eye(rows,cols)\n",
    "\n",
    "\n"
   ]
  }
 ],
 "metadata": {
  "kernelspec": {
   "display_name": "Python 3 (ipykernel)",
   "language": "python",
   "name": "python3"
  },
  "language_info": {
   "codemirror_mode": {
    "name": "ipython",
    "version": 3
   },
   "file_extension": ".py",
   "mimetype": "text/x-python",
   "name": "python",
   "nbconvert_exporter": "python",
   "pygments_lexer": "ipython3",
   "version": "3.11.9"
  }
 },
 "nbformat": 4,
 "nbformat_minor": 5
}
