{
 "cells": [
  {
   "attachments": {},
   "cell_type": "markdown",
   "id": "5c0cbb93-2880-4750-975d-11cce9f6b12c",
   "metadata": {},
   "source": [
    "# Trabajo Práctico 1 - Matrices de Insumo Producto\n",
    "\n",
    "## Enunciado"
   ]
  },
  {
   "cell_type": "markdown",
   "id": "11f7face-a325-4e30-b13e-0c3d84280c5e",
   "metadata": {},
   "source": [
    "### Consigna 1"
   ]
  },
  {
   "cell_type": "markdown",
   "id": "e69c407d-9132-421c-8d02-508da3bb3ae6",
   "metadata": {},
   "source": [
    "##### Ecuacion\n",
    "$$p = (I-A)^{-1}d = Ld$$\n",
    "\n",
    "##### a. Cuando $ (I-A) $ es inversible la matriz de Leontief se puede calcular. En este caso la solucion al sistema 2 existe y es unica.\n",
    "\n",
    "##### b. Cuando $ (I-A) $ es inversible pero el vector d = 0 tenemos una economia cerrada en donde para toda matriz de Leontief el valor de p va a ser 0.\n",
    "\n",
    "##### c. Cuando $ (I-A) $ no es inversible significa que el sistema no tiene solucion unica o no tiene solucion.\n",
    "\n",
    "##### d. Cuando $ (I-A) $ no es inversible y d = 0 el sistema se puede reducir a $ (I-A)p = 0 $ el cual posee soluciones no triviales por lo tanto hay soluciones infinitas que satisfacen la ecuacion.\n"
   ]
  },
  {
   "cell_type": "markdown",
   "id": "6ea60699-4c07-40fb-8f71-ec4cacf32708",
   "metadata": {},
   "source": [
    "### Consigna 2"
   ]
  },
  {
   "cell_type": "code",
   "execution_count": 2,
   "id": "260b913f-d6d3-47b8-9431-7a64d6d037a5",
   "metadata": {},
   "outputs": [],
   "source": [
    "from funciones import inversaLU, calcularPLU, solve_LU, calcularLU, inversaLUpivot, calcular_coeficientes_tecnicos\n",
    "import numpy as np"
   ]
  },
  {
   "cell_type": "markdown",
   "id": "b6527567-ea14-4fb0-8cbb-3faa67fee8c1",
   "metadata": {},
   "source": [
    "---"
   ]
  },
  {
   "cell_type": "markdown",
   "id": "a063ee90",
   "metadata": {},
   "source": [
    "### Consigna 3"
   ]
  },
  {
   "cell_type": "code",
   "execution_count": 5,
   "id": "07f69bd8-9a22-4fa0-8e69-7e2580e80459",
   "metadata": {},
   "outputs": [
    {
     "data": {
      "text/plain": [
       "array([   64.03940887, -5305.41871921,  -551.72413793])"
      ]
     },
     "execution_count": 5,
     "metadata": {},
     "output_type": "execute_result"
    }
   ],
   "source": [
    "A = np.array([[0.3, 0.0, 0.1],[0.05, 1.0, 0.2],[0.1, 0.15, 0.1]])\n",
    "d = np.array([100,100,300])\n",
    "rows,cols = A.shape\n",
    "id = np.eye(rows, cols)\n",
    "i_A = id - A\n",
    "L, U, P= calcularPLU(i_A)\n",
    "leontief = inversaLUpivot(L,U,P)\n",
    "\n",
    "p = leontief @ d\n",
    "p"
   ]
  },
  {
   "cell_type": "markdown",
   "id": "8067f546",
   "metadata": {},
   "source": [
    "a) Como el producto 2 necesita 1 producto 2 para producirse uno, ademas de los gastos de los demas productos nunca llega a satisfacer la demanda por ende so produccion total es negativa (creo que aca no estamos viendo bien a la matriz de la demanda interna la cual deberia ser la matriz de leontief y no la matriz A, lo que me llama la atencion es que nos esta viniendo con valores negativos cuando la demanda deberia ser positiva?)\n"
   ]
  },
  {
   "cell_type": "markdown",
   "id": "c76c5de6",
   "metadata": {},
   "source": [
    "---\n",
    "\n",
    "### Consigna 4"
   ]
  },
  {
   "cell_type": "code",
   "execution_count": 3,
   "id": "2d2cd6f8",
   "metadata": {},
   "outputs": [
    {
     "data": {
      "text/plain": [
       "array([   64.03940887, -5312.08538588,  -551.72413793])"
      ]
     },
     "execution_count": 3,
     "metadata": {},
     "output_type": "execute_result"
    }
   ],
   "source": [
    "delta_d = d + np.array([0,0,1])\n",
    "delta_p = leontief @ delta_d\n",
    "delta_p"
   ]
  },
  {
   "cell_type": "markdown",
   "id": "ebb902a5",
   "metadata": {},
   "source": [
    "---\n",
    "\n",
    "### Consigna 5"
   ]
  },
  {
   "cell_type": "code",
   "execution_count": 4,
   "id": "5f8c86f9",
   "metadata": {},
   "outputs": [
    {
     "name": "stdout",
     "output_type": "stream",
     "text": [
      "[[0.35 0.   0.  ]\n",
      " [0.05 0.5  0.15]\n",
      " [0.2  0.3  0.55]]\n"
     ]
    },
    {
     "data": {
      "text/plain": [
       "array([[1.53846154, 0.        , 0.        ],\n",
       "       [0.44871795, 2.5       , 0.83333333],\n",
       "       [0.98290598, 1.66666667, 2.77777778]])"
      ]
     },
     "execution_count": 4,
     "metadata": {},
     "output_type": "execute_result"
    }
   ],
   "source": [
    "Z = np.array([[350, 0, 0],[50, 250, 150],[200, 150, 550]])\n",
    "rows, cols = Z.shape\n",
    "P = np.array([[1000,0,0],[0,500,0],[0,0,1000]])\n",
    "\n",
    "A = calcular_coeficientes_tecnicos(Z,P)\n",
    "i_A = np.eye(rows, cols) - A\n",
    "leontief = inversaLUpivot(*calcularPLU(i_A))\n",
    "print(A)\n",
    "leontief "
   ]
  },
  {
   "cell_type": "markdown",
   "id": "9cfbc03d",
   "metadata": {},
   "source": [
    "---\n",
    "### Consigna 6"
   ]
  },
  {
   "cell_type": "markdown",
   "id": "5245a503",
   "metadata": {},
   "source": [
    "\"\\n\",\n",
    "    \"\\n\",\n",
    "    \"\\n\",\n",
    "    \"Lo que queremos lograr es deducir cómo varía la producción $p^r$ en función de una variación en la demanda, fijando el que no hay cambios en la demanda de la región $s$ (es decir, $\\\\Delta d^s = 0$). Vamos a descomponer el problema para deducir la fórmula $\\\\Delta p^r = (I - A^{rr} - A^{rs}(I - A^{ss})^{-1}A^{sr})^{-1}\\\\Delta d^r$.\\n\",\n",
    "    \"\\n\",\n",
    "    \"#### Empezamos a partir de la ecuación matricial de la fórmula 4\\n\",\n",
    "    \"\\n\",\n",
    "    \"$$\\n\",\n",
    "    \"\\\\left(\\n\",\n",
    "    \"\\\\begin{pmatrix}\\n\",\n",
    "    \"I_{n\\\\times n} & 0_{n\\\\times m} \\\\\\\\\\n\",\n",
    "    \"0_{m\\\\times n} & I_{m\\\\times m}\\n\",\n",
    "    \"\\\\end{pmatrix}\\n\",\n",
    "    \" -\\n\",\n",
    "    \"\\\\begin{pmatrix}\\n\",\n",
    "    \"A^{rr} & A^{rs} \\\\\\\\\\n\",\n",
    "    \"A^{sr} & A^{ss}\\n\",\n",
    "    \"\\\\end{pmatrix}\\n\",\n",
    "    \"\\\\right)\\n\",\n",
    "    \"\\\\begin{pmatrix}\\n\",\n",
    "    \"p^r \\\\\\\\\\n\",\n",
    "    \"p^s\\n\",\n",
    "    \"\\\\end{pmatrix} =\\n\",\n",
    "    \"\\\\begin{pmatrix}\\n\",\n",
    "    \"d^r \\\\\\\\\\n\",\n",
    "    \"d^s\\n\",\n",
    "    \"\\\\end{pmatrix}\\n\",\n",
    "    \"$$\\n\",\n",
    "    \"\\n\",\n",
    "    \"Descomponemos esta expresión en dos ecuaciones que corresponden a cada bloque:\\n\",\n",
    "    \"\\n\",\n",
    "    \"$$(I_{n\\\\times n} \\\\quad 0_{n\\\\times m}) - (A^{rr} \\\\quad A^{rs})\\\\begin{pmatrix}p^r \\\\\\\\ p^s\\\\end{pmatrix} = d^r$$\\n\",\n",
    "    \"\\n\",\n",
    "    \"$$(0_{m\\\\times n} \\\\quad I_{m\\\\times m}) - (A^{sr} \\\\quad A^{ss})\\\\begin{pmatrix}p^r \\\\\\\\ p^s\\\\end{pmatrix} = d^s$$\\n\",\n",
    "    \"\\n\",\n",
    "    \"Estas ecuaciones se pueden reescribir como:\\n\",\n",
    "    \"\\n\",\n",
    "    \"1. Para la región $r$:\\n\",\n",
    "    \"   $$(I - A^{rr})p^r - A^{rs}p^s = d^r$$\\n\",\n",
    "    \"\\n\",\n",
    "    \"2. Para la región $s$:\\n\",\n",
    "    \"   $$-A^{sr}p^r + (I - A^{ss})p^s = d^s$$\\n\",\n",
    "    \"\\n\",\n",
    "    \"\\n\",\n",
    "    \"\\n\",\n",
    "    \"####  Resolvemos la ecuación para $p^s$ y sustituimos $p^s$ en la ecuación de la región $r$\\n\",\n",
    "    \"\\n\",\n",
    "    \"Como sabemos que $\\\\Delta d^s = 0$  podemos resolver para $p^s$ en la segunda ecuación:\\n\",\n",
    "    \"\\n\",\n",
    "    \"$$(I - A^{ss})p^s = A^{sr}p^r$$\\n\",\n",
    "    \"\\n\",\n",
    "    \"Despejando $p^s$:\\n\",\n",
    "    \"\\n\",\n",
    "    \"$$p^s = (I - A^{ss})^{-1}A^{sr}p^r$$\\n\",\n",
    "    \"\\n\",\n",
    "    \"Ahora reemplazamos esta expresión de $p^s$ en la primera ecuación para la región $r$:\\n\",\n",
    "    \"\\n\",\n",
    "    \"$$(I - A^{rr})p^r - A^{rs}(I - A^{ss})^{-1}A^{sr}p^r = d^r$$\\n\",\n",
    "    \"\\n\",\n",
    "    \"Factorizamos $p^r$ en el lado izquierdo de la ecuación:\\n\",\n",
    "    \"\\n\",\n",
    "    \"$$(I - A^{rr} - A^{rs}(I - A^{ss})^{-1}A^{sr})p^r = d^r$$\\n\",\n",
    "    \"\\n\",\n",
    "    \"#### Variación de la demanda\\n\",\n",
    "    \"\\n\",\n",
    "    \"Si ahora consideramos una variación en la demanda $\\\\Delta d^r$, la ecuación queda:\\n\",\n",
    "    \"\\n\",\n",
    "    \"$$(I - A^{rr} - A^{rs}(I - A^{ss})^{-1}A^{sr})\\\\Delta p^r = \\\\Delta d^r$$\\n\",\n",
    "    \"\\n\",\n",
    "    \"Despejando $\\\\Delta p^r$, obtenemos la fórmula deseada:\\n\",\n",
    "    \"\\n\",\n",
    "    \"$$\\\\Delta p^r = (I - A^{rr} - A^{rs}(I - A^{ss})^{-1}A^{sr})^{-1}\\\\Delta d^r$$\\n\"\n",
    "\n"
   ]
  },
  {
   "cell_type": "markdown",
   "id": "87b76174",
   "metadata": {},
   "source": [
    "\n",
    "\n",
    "\n",
    "Lo que queremos lograr es deducir cómo varía la producción $p^r$ en función de una variación en la demanda, fijando el que no hay cambios en la demanda de la región $s$ (es decir, $\\Delta d^s = 0$). Vamos a descomponer el problema para deducir la fórmula $\\Delta p^r = (I - A^{rr} - A^{rs}(I - A^{ss})^{-1}A^{sr})^{-1}\\Delta d^r$.\n",
    "\n",
    "#### Empezamos a partir de la ecuación matricial de la fórmula 4\n",
    "\n",
    "$$\n",
    "\\left(\n",
    "\\begin{pmatrix}\n",
    "I_{n\\times n} & 0_{n\\times m} \\\\\n",
    "0_{m\\times n} & I_{m\\times m}\n",
    "\\end{pmatrix}\n",
    " -\n",
    "\\begin{pmatrix}\n",
    "A^{rr} & A^{rs} \\\\\n",
    "A^{sr} & A^{ss}\n",
    "\\end{pmatrix}\n",
    "\\right)\n",
    "\\begin{pmatrix}\n",
    "p^r \\\\\n",
    "p^s\n",
    "\\end{pmatrix} =\n",
    "\\begin{pmatrix}\n",
    "d^r \\\\\n",
    "d^s\n",
    "\\end{pmatrix}\n",
    "$$\n",
    "\n",
    "Descomponemos esta expresión en dos ecuaciones que corresponden a cada bloque:\n",
    "\n",
    "$$(I_{n\\times n} \\quad 0_{n\\times m}) - (A^{rr} \\quad A^{rs})\\begin{pmatrix}p^r \\\\ p^s\\end{pmatrix} = d^r$$\n",
    "\n",
    "$$(0_{m\\times n} \\quad I_{m\\times m}) - (A^{sr} \\quad A^{ss})\\begin{pmatrix}p^r \\\\ p^s\\end{pmatrix} = d^s$$\n",
    "\n",
    "Estas ecuaciones se pueden reescribir como:\n",
    "\n",
    "1. Para la región $r$:\n",
    "   $$(I - A^{rr})p^r - A^{rs}p^s = d^r$$\n",
    "\n",
    "2. Para la región $s$:\n",
    "   $$-A^{sr}p^r + (I - A^{ss})p^s = d^s$$\n",
    "\n",
    "\n",
    "\n",
    "####  Resolvemos la ecuación para $p^s$ y sustituimos $p^s$ en la ecuación de la región $r$\n",
    "\n",
    "Como sabemos que $\\Delta d^s = 0$  podemos resolver para $p^s$ en la segunda ecuación:\n",
    "\n",
    "$$(I - A^{ss})p^s = A^{sr}p^r$$\n",
    "\n",
    "Despejando $p^s$:\n",
    "\n",
    "$$p^s = (I - A^{ss})^{-1}A^{sr}p^r$$\n",
    "\n",
    "Ahora reemplazamos esta expresión de $p^s$ en la primera ecuación para la región $r$:\n",
    "\n",
    "$$(I - A^{rr})p^r - A^{rs}(I - A^{ss})^{-1}A^{sr}p^r = d^r$$\n",
    "\n",
    "Factorizamos $p^r$ en el lado izquierdo de la ecuación:\n",
    "\n",
    "$$(I - A^{rr} - A^{rs}(I - A^{ss})^{-1}A^{sr})p^r = d^r$$\n",
    "\n",
    "#### Variación de la demanda\n",
    "\n",
    "Si ahora consideramos una variación en la demanda $\\Delta d^r$, la ecuación queda:\n",
    "\n",
    "$$(I - A^{rr} - A^{rs}(I - A^{ss})^{-1}A^{sr})\\Delta p^r = \\Delta d^r$$\n",
    "\n",
    "Despejando $\\Delta p^r$, obtenemos la fórmula deseada:\n",
    "\n",
    "$$\\Delta p^r = (I - A^{rr} - A^{rs}(I - A^{ss})^{-1}A^{sr})^{-1}\\Delta d^r$$\n"
   ]
  },
  {
   "cell_type": "markdown",
   "id": "5f68f67a",
   "metadata": {},
   "source": [
    "---\n",
    "### Consigna 7"
   ]
  },
  {
   "cell_type": "code",
   "execution_count": 5,
   "id": "ad1c3dc2",
   "metadata": {},
   "outputs": [],
   "source": [
    "import pandas as pd\n",
    "\n",
    "path = \"matrizlatina2011_compressed_0.xlsx\"\n",
    "dataset = pd.read_excel(path, sheet_name=1)"
   ]
  },
  {
   "cell_type": "markdown",
   "id": "5b55f117",
   "metadata": {},
   "source": [
    "b)"
   ]
  },
  {
   "cell_type": "code",
   "execution_count": 6,
   "id": "bb913eb8",
   "metadata": {},
   "outputs": [],
   "source": [
    "\n",
    "COL = dataset[dataset[\"Country_iso3\"] ==\"COL\"]\n",
    "BOL = dataset[dataset[\"Country_iso3\"] ==\"BOL\"]"
   ]
  },
  {
   "cell_type": "code",
   "execution_count": 7,
   "id": "cd76e3d6",
   "metadata": {},
   "outputs": [],
   "source": [
    "#Separamos los dataframes de cada pais \n",
    "\n",
    "bol_cols = [f\"BOLs{i}\" for i in range(1,41)]\n",
    "col_cols = [f\"COLs{i}\" for i in range(1,41)]\n",
    "\n",
    "col_p = COL[\"Output\"]\n",
    "bol_p = BOL[\"Output\"]\n",
    "\n",
    "bol_intra_regional = BOL[bol_cols]\n",
    "bol_inter_regional = BOL[col_cols]\n",
    "\n",
    "col_intra_regional = COL[col_cols]\n",
    "col_inter_regional = COL[bol_cols]\n",
    "\n",
    "# bol_intra_regional.head()\n",
    "\n",
    "\n"
   ]
  },
  {
   "cell_type": "code",
   "execution_count": 8,
   "id": "86bd36c6",
   "metadata": {},
   "outputs": [],
   "source": [
    "bol_intra_regional = BOL[bol_cols].to_numpy(na_value=0) #Matriz Z de Bolivia intra regional\n",
    "bol_inter_regional = BOL[col_cols].to_numpy(na_value=0) #Matriz Z de Bolivia inter regional\n",
    "\n",
    "col_intra_regional = COL[col_cols].to_numpy(na_value=0) #Matriz Z de Colombia intra regional\n",
    "col_inter_regional = COL[bol_cols].to_numpy(na_value=0) #Matriz Z de Colombia inter regional\n",
    "\n",
    "bol_P_vector = bol_p.to_numpy(na_value=0)\n",
    "col_P_vector = col_p.to_numpy(na_value=0)\n",
    "\n",
    "p1 = []\n",
    "for i in bol_P_vector:\n",
    "    if i != 0:\n",
    "        p1.append(i)\n",
    "    else:\n",
    "        p1.append(1)\n",
    "\n",
    "p2 = []\n",
    "for i in col_P_vector:\n",
    "    if i != 0:\n",
    "        p2.append(i)\n",
    "    else:\n",
    "        p2.append(1)\n",
    "\n",
    "bol_matriz_P = np.diag(p1)\n",
    "col_matriz_P = np.diag(p2)\t   "
   ]
  },
  {
   "cell_type": "markdown",
   "id": "ef88993d",
   "metadata": {},
   "source": [
    "c)"
   ]
  },
  {
   "cell_type": "code",
   "execution_count": 9,
   "id": "1179ac6f",
   "metadata": {},
   "outputs": [],
   "source": [
    "bol_intra_A = calcular_coeficientes_tecnicos(bol_intra_regional, bol_matriz_P)\n",
    "bol_inter_A = calcular_coeficientes_tecnicos(bol_inter_regional, col_matriz_P)\n",
    "\n",
    "col_intra_A = calcular_coeficientes_tecnicos(col_intra_regional, col_matriz_P)\n",
    "col_inter_A = calcular_coeficientes_tecnicos(col_inter_regional, bol_matriz_P)\n"
   ]
  },
  {
   "cell_type": "code",
   "execution_count": 10,
   "id": "0d25fbe8",
   "metadata": {},
   "outputs": [],
   "source": [
    "rows, cols = bol_intra_A.shape\n",
    "bol_d = (np.eye(rows,cols) - bol_intra_A) @ bol_P_vector - bol_inter_A @ col_P_vector\n",
    "\n",
    "\n",
    "\n",
    "rows, cols = col_intra_A.shape\n",
    "col_d = (np.eye(rows,cols) - col_intra_A) @ col_P_vector - col_inter_A @ bol_P_vector\n",
    "\n",
    "\n",
    "\n"
   ]
  },
  {
   "cell_type": "code",
   "execution_count": 11,
   "id": "d7838ae3",
   "metadata": {},
   "outputs": [
    {
     "data": {
      "text/plain": [
       "array([ 1.26608612e+03,  1.15933987e+00,  3.03254898e+03,  3.11747201e+03,\n",
       "        1.06421612e+03,  6.82638584e+02,  2.87258137e+02,  1.14043661e+03,\n",
       "        5.51613084e+02,  4.10833459e+01,  8.30981724e-01,  1.51702053e+02,\n",
       "        6.97469056e+01,  3.10014524e+02,  1.84360782e+01,  5.02871264e+02,\n",
       "       -1.99507449e+00,  6.89277255e+01,  1.09253860e+01,  4.36618726e+00,\n",
       "        2.21155698e+02,  2.41008268e+00,  1.91381651e+02,  2.69310945e+01,\n",
       "       -1.67018677e-01,  7.35725460e-02,  6.18439100e-02,  0.00000000e+00,\n",
       "       -2.31823000e-04,  9.17380200e-02,  0.00000000e+00,  0.00000000e+00,\n",
       "        6.28416338e+01,  3.35374044e+02,  1.64024755e+03,  1.44404812e+03,\n",
       "        2.05230734e+02,  2.48139766e+02,  7.27063753e+01,  9.29991999e+03])"
      ]
     },
     "execution_count": 11,
     "metadata": {},
     "output_type": "execute_result"
    }
   ],
   "source": [
    "#demanda Externa de Bolivia\n",
    "bol_d"
   ]
  },
  {
   "cell_type": "code",
   "execution_count": 12,
   "id": "226fee95",
   "metadata": {},
   "outputs": [
    {
     "data": {
      "text/plain": [
       "array([1.25535963e+04, 3.84510479e+02, 3.14761594e+04, 1.14969110e+03,\n",
       "       6.20601181e+03, 7.08221548e+03, 2.47530320e+03, 8.66425071e+03,\n",
       "       4.10277950e+03, 2.90149501e+02, 1.16958658e+03, 5.88378063e+03,\n",
       "       1.68285396e+03, 1.27391542e+02, 2.11474533e+03, 9.87656740e+03,\n",
       "       2.25239056e+03, 3.82154916e+03, 1.75815579e+03, 1.39231561e+03,\n",
       "       9.29809716e+02, 6.12048653e+02, 2.20212942e+03, 1.19095887e+03,\n",
       "       1.59933825e+03, 4.09309481e+01, 7.35764351e+02, 1.73932175e+01,\n",
       "       9.55901854e+01, 2.56524426e+03, 2.17495366e+02, 5.90423190e+02,\n",
       "       2.73887773e+03, 6.15142023e+03, 4.75571262e+04, 1.45333189e+04,\n",
       "       9.51589836e+03, 9.36538643e+03, 2.24437666e+03, 1.45834836e+05])"
      ]
     },
     "execution_count": 12,
     "metadata": {},
     "output_type": "execute_result"
    }
   ],
   "source": [
    "#demanda Externa de Colombia\n",
    "col_d"
   ]
  },
  {
   "cell_type": "markdown",
   "id": "864df49b",
   "metadata": {},
   "source": [
    "d)"
   ]
  },
  {
   "cell_type": "code",
   "execution_count": 13,
   "id": "1cacaccd",
   "metadata": {},
   "outputs": [],
   "source": [
    "bol_d[4] = bol_d[4] * 0.9\n",
    "bol_d[5:8] = bol_d[5:8] * 1.033\n",
    "delta_bol_d = bol_d"
   ]
  },
  {
   "cell_type": "code",
   "execution_count": 15,
   "id": "abb245f0",
   "metadata": {},
   "outputs": [
    {
     "name": "stdout",
     "output_type": "stream",
     "text": [
      "[ 3.37511899e+03  4.01506676e+00  4.70909723e+03  3.63847686e+03\n",
      "  1.14876742e+03  9.72419998e+02  3.71520267e+02  1.44190153e+03\n",
      "  9.37721218e+02  5.42776266e+01  5.01839500e+01  1.95947620e+02\n",
      "  2.05254280e+02  5.18592441e+02  1.82634517e+02  7.62314515e+02\n",
      " -1.42808604e+00  1.28191057e+02  5.95149408e+01  9.29078531e+01\n",
      "  7.78053024e+02  5.53505546e+00  4.08288357e+02  4.10110062e+01\n",
      "  8.92505556e+00  6.29437953e-01  1.15514871e+01  0.00000000e+00\n",
      " -2.31823000e-04  7.63149425e+00  0.00000000e+00  0.00000000e+00\n",
      "  8.92448630e+01  6.42572800e+02  1.68455182e+03  3.27050837e+03\n",
      "  4.77968409e+02  4.67601123e+02  6.83038643e+02  1.02165355e+04]\n",
      "80      3487.321711\n",
      "81         4.048915\n",
      "82      4716.747980\n",
      "83      3646.153101\n",
      "84      1265.894610\n",
      "85       945.641845\n",
      "86       364.425893\n",
      "87      1574.674025\n",
      "88       982.678047\n",
      "89        54.277627\n",
      "90        52.205045\n",
      "91       223.845643\n",
      "92       206.825080\n",
      "93       518.992799\n",
      "94       183.592177\n",
      "95       764.427372\n",
      "96        -1.203619\n",
      "97       128.671581\n",
      "98        60.356190\n",
      "99        93.848699\n",
      "100      782.009467\n",
      "101        5.541795\n",
      "102      415.008561\n",
      "103       41.238328\n",
      "104        9.193455\n",
      "105        0.638002\n",
      "106       11.640204\n",
      "107        0.000000\n",
      "108        0.000000\n",
      "109        7.735692\n",
      "110        0.000000\n",
      "111        0.000000\n",
      "112       89.532018\n",
      "113      646.045082\n",
      "114     1684.646160\n",
      "115     3295.731583\n",
      "116      479.652424\n",
      "117      470.507738\n",
      "118      687.605223\n",
      "119    10226.905148\n",
      "Name: Output, dtype: float64\n"
     ]
    }
   ],
   "source": [
    "i_bol_A = np.eye(bol_intra_A.shape[0], bol_intra_A.shape[1]) - bol_intra_A\n",
    "leontief_bol = inversaLUpivot(*calcularPLU(i_bol_A))\n",
    "delta_bol_p = leontief_bol @ delta_bol_d\n",
    "print(delta_bol_p)\n",
    "print(bol_p)\n",
    "\n",
    "\n",
    "\n",
    "\n",
    "\n",
    "\n"
   ]
  }
 ],
 "metadata": {
  "kernelspec": {
   "display_name": "Python 3 (ipykernel)",
   "language": "python",
   "name": "python3"
  },
  "language_info": {
   "codemirror_mode": {
    "name": "ipython",
    "version": 3
   },
   "file_extension": ".py",
   "mimetype": "text/x-python",
   "name": "python",
   "nbconvert_exporter": "python",
   "pygments_lexer": "ipython3",
   "version": "3.11.9"
  }
 },
 "nbformat": 4,
 "nbformat_minor": 5
}
