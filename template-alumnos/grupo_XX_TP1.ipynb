{
 "cells": [
  {
   "attachments": {},
   "cell_type": "markdown",
   "id": "5c0cbb93-2880-4750-975d-11cce9f6b12c",
   "metadata": {},
   "source": [
    "# Trabajo Práctico 1 - Matrices de Insumo Producto\n",
    "\n",
    "## Enunciado"
   ]
  },
  {
   "cell_type": "markdown",
   "id": "11f7face-a325-4e30-b13e-0c3d84280c5e",
   "metadata": {},
   "source": [
    "### Consigna 1"
   ]
  },
  {
   "cell_type": "markdown",
   "id": "e69c407d-9132-421c-8d02-508da3bb3ae6",
   "metadata": {},
   "source": [
    "##### Ecuacion\n",
    "$$p = (I-A)^{-1}d = Ld$$\n",
    "\n",
    "Si $d = 0$ entonce $p = 0$  ??\n"
   ]
  },
  {
   "cell_type": "markdown",
   "id": "6ea60699-4c07-40fb-8f71-ec4cacf32708",
   "metadata": {},
   "source": [
    "### Consigna 2"
   ]
  },
  {
   "cell_type": "code",
   "execution_count": 4,
   "id": "260b913f-d6d3-47b8-9431-7a64d6d037a5",
   "metadata": {},
   "outputs": [
    {
     "data": {
      "text/plain": [
       "array([[ 0.,  1.,  0., -1.],\n",
       "       [ 0.,  0., -4.,  0.],\n",
       "       [-2.,  1.,  1.,  2.],\n",
       "       [ 3., -3.,  0.,  2.]])"
      ]
     },
     "execution_count": 4,
     "metadata": {},
     "output_type": "execute_result"
    }
   ],
   "source": [
    "from funciones import inversaLU, calcularPLU, solve_LU, calcularLU, inversaLUpivot\n",
    "import numpy as np"
   ]
  },
  {
   "cell_type": "markdown",
   "id": "b6527567-ea14-4fb0-8cbb-3faa67fee8c1",
   "metadata": {},
   "source": [
    "---"
   ]
  },
  {
   "cell_type": "markdown",
   "id": "a063ee90",
   "metadata": {},
   "source": [
    "### Consigna 3"
   ]
  },
  {
   "cell_type": "code",
   "execution_count": 6,
   "id": "07f69bd8-9a22-4fa0-8e69-7e2580e80459",
   "metadata": {},
   "outputs": [
    {
     "data": {
      "text/plain": [
       "array([   64.03940887, -5305.41871921,  -551.72413793])"
      ]
     },
     "execution_count": 6,
     "metadata": {},
     "output_type": "execute_result"
    }
   ],
   "source": [
    "A = np.array([[0.3, 0.0, 0.1],[0.05, 1.0, 0.2],[0.1, 0.15, 0.1]])\n",
    "d = np.array([100,100,300])\n",
    "rows,cols = A.shape\n",
    "id = np.eye(rows, cols)\n",
    "i_A = id - A\n",
    "L, U, P= calcularPLU(i_A)\n",
    "leontief = inversaLUpivot(L,U,P)\n",
    "\n",
    "p = leontief @ d\n",
    "p"
   ]
  },
  {
   "cell_type": "markdown",
   "id": "8067f546",
   "metadata": {},
   "source": [
    "a) Como el producto 2 necesita 1 producto 2 para uno, mas los gasto de los demas productos nunca llega a satisfacer la demanda por ende so produccion total es negativa\n"
   ]
  },
  {
   "cell_type": "markdown",
   "id": "c76c5de6",
   "metadata": {},
   "source": [
    "---\n",
    "\n",
    "### Consigna 4"
   ]
  },
  {
   "cell_type": "code",
   "execution_count": 10,
   "id": "2d2cd6f8",
   "metadata": {},
   "outputs": [
    {
     "data": {
      "text/plain": [
       "array([   64.03940887, -5312.08538588,  -551.72413793])"
      ]
     },
     "execution_count": 10,
     "metadata": {},
     "output_type": "execute_result"
    }
   ],
   "source": [
    "delta_d = d + np.array([0,0,1])\n",
    "delta_p = leontief @ delta_d\n",
    "delta_p"
   ]
  },
  {
   "cell_type": "markdown",
   "id": "ebb902a5",
   "metadata": {},
   "source": [
    "---\n",
    "\n",
    "### Consigna 5"
   ]
  },
  {
   "cell_type": "code",
   "execution_count": null,
   "id": "5f8c86f9",
   "metadata": {},
   "outputs": [],
   "source": [
    "Z = np.array([[350, 0, 0],[50, 250, 150],[200, 150, 550]])\n",
    "rows, cols = Z.shape\n",
    "P = np.array([[1000,0,0],[0,500,0],[0,0,1000]])\n",
    "\n",
    "A = Z @ inversaLU(*calcularLU(P))\n",
    "A"
   ]
  },
  {
   "cell_type": "markdown",
   "id": "9cfbc03d",
   "metadata": {},
   "source": [
    "---\n",
    "### Consigna 6"
   ]
  }
 ],
 "metadata": {
  "kernelspec": {
   "display_name": "Python 3 (ipykernel)",
   "language": "python",
   "name": "python3"
  },
  "language_info": {
   "codemirror_mode": {
    "name": "ipython",
    "version": 3
   },
   "file_extension": ".py",
   "mimetype": "text/x-python",
   "name": "python",
   "nbconvert_exporter": "python",
   "pygments_lexer": "ipython3",
   "version": "3.12.3"
  }
 },
 "nbformat": 4,
 "nbformat_minor": 5
}
